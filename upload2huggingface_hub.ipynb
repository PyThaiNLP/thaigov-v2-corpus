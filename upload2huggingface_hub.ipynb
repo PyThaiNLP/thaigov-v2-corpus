{
 "cells": [
  {
   "cell_type": "code",
   "execution_count": 1,
   "id": "f9ec27c5-38a5-4a34-9893-6ffe8f0fb6d1",
   "metadata": {
    "tags": []
   },
   "outputs": [
    {
     "name": "stderr",
     "output_type": "stream",
     "text": [
      "/home/wannaphong/.local/lib/python3.10/site-packages/tqdm/auto.py:21: TqdmWarning: IProgress not found. Please update jupyter and ipywidgets. See https://ipywidgets.readthedocs.io/en/stable/user_install.html\n",
      "  from .autonotebook import tqdm as notebook_tqdm\n"
     ]
    }
   ],
   "source": [
    "import os\n",
    "import glob\n",
    "import pandas as pd\n",
    "import re\n",
    "from tqdm.auto import tqdm"
   ]
  },
  {
   "cell_type": "code",
   "execution_count": 2,
   "id": "4581ef41-b6ce-43dd-8788-d53952fa7478",
   "metadata": {
    "tags": []
   },
   "outputs": [],
   "source": [
    "list_all_txt_files=list(glob.glob(os.path.join(\".\",\"data\",\"*\",\"*\",\"*\",\"*.txt\")))"
   ]
  },
  {
   "cell_type": "code",
   "execution_count": 3,
   "id": "6f5f3fb8-8734-459b-bc23-b015c0699619",
   "metadata": {
    "tags": []
   },
   "outputs": [
    {
     "data": {
      "text/plain": [
       "30380"
      ]
     },
     "execution_count": 3,
     "metadata": {},
     "output_type": "execute_result"
    }
   ],
   "source": [
    "len(list_all_txt_files)"
   ]
  },
  {
   "cell_type": "code",
   "execution_count": 4,
   "id": "5305eae8-7608-41d6-becf-2bed52121a00",
   "metadata": {
    "tags": []
   },
   "outputs": [],
   "source": [
    "def read_file(path):\n",
    "    text={\"title\":\"\",\"context\":\"\",\"url\":\"\"}\n",
    "    page_view_line = 0\n",
    "    with open(path, 'r', encoding='utf-8-sig') as f:\n",
    "        for n, line in enumerate(f):\n",
    "            line = line.strip()\n",
    "            if n == 0: # title line\n",
    "                text[\"title\"] = line.strip()\n",
    "            else:\n",
    "                if line:\n",
    "                    if re.match(r'^[\\d,]+$', line):\n",
    "                        page_view_line = n\n",
    "                        continue\n",
    "                    if line == 'พิมพ์' or page_view_line and page_view_line < n: # skip 'print'\n",
    "                        continue\n",
    "                    if re.match(r'^ที่มา : http', line):\n",
    "                        text[\"url\"] = line.strip().split(\" \")[-1]\n",
    "                    else:\n",
    "                        text[\"context\"] +=line.strip().replace(\"\\xa0\",\"\")+\"\\n\"\n",
    "    return text"
   ]
  },
  {
   "cell_type": "code",
   "execution_count": 5,
   "id": "f031d1ef-c40f-4da9-8c82-dee791a8877f",
   "metadata": {
    "tags": []
   },
   "outputs": [
    {
     "name": "stdout",
     "output_type": "stream",
     "text": [
      "{'title': 'รัฐบาลไทย-ข่าวทำเนียบรัฐบาล-นายกรัฐมนตรี ยกสถานการณ์โควิด-19 ที่ผ่านมาเป็นบทเรียน พร้อมวิเคราะห์ เรียนรู้ต่อเนื่อง เพื่อรับมือกับสถานการณ์ในปัจจุบัน', 'context': 'วันเสาร์ที่ 6 กุมภาพันธ์ 2564\\nนายกรัฐมนตรี ยกสถานการณ์โควิด-19 ที่ผ่านมาเป็นบทเรียน พร้อมวิเคราะห์ เรียนรู้ต่อเนื่อง เพื่อรับมือกับสถานการณ์ในปัจจุบัน\\nนายกรัฐมนตรี ยกสถานการณ์โควิด-19 ที่ผ่านมาเป็นบทเรียน พร้อมวิเคราะห์ เรียนรู้ต่อเนื่อง เพื่อรับมือกับสถานการณ์ในปัจจุบัน\\nวันนี้ (6 กุมภาพันธ์ 2564) เวลา 8.30 น. พลเอก ประยุทธ์ จันทร์โอชา นายกรัฐมนตรีและรัฐมนตรีว่าการกระทรวงกลาโหม พูดคุยถึงการบริหารจัดการกับการระบาดใหม่ของโควิด-19 ในประเทศ ผ่าน PM PODCAST สรุปประเด็นดังนี้\\nนายกรัฐมนตรีกล่าวถึงการระบาดโควิด-19 ในประเทศครั้งนี้ ไม่ได้เชื่อมโยงกับการระบาดในรอบแรก ที่ไทยสามารถควบคุมการแพร่ระบาดของโควิด-19 ได้ภายในสองเดือน การระบาดในรอบปัจจุบันส่งผลกระทบต่อระบบเศรษฐกิจอย่างต่อเนื่อง จึงต้องนำสถานการณ์ที่ผ่านมาเป็นบทเรียน วิเคราะห์ ประมวลสถานการณ์อย่างต่อเนื่อง ทำให้เกิดการเรียนรู้ เชื่อมั่น สามารถรับมือกับสถานการณ์ดังกล่าวได้มากขึ้น รวมทั้งใช้มาตรการต่างๆ ที่สอดคล้องกับสถานการณ์ โดยตั้งอยู่บนหลักวิชาการและบริบทของประเทศไทย เช่น การปิดสถานประกอบการที่ต้องคำนึงถึงตัวเลขสถิติเพื่อออกมาตรการที่เหมาะสม ปัจจุบันรัฐบาลสามารถเลี่ยงการล็อคดาวน์ เปลี่ยนเป็นการแบ่งพื้นที่และกำหนดมาตรการควบคุมให้เหมาะสมกับความเสี่ยงของพื้นที่ในแต่ละระดับ ลดผลกระทบต่อการใช้ชีวิตประจำวันของประชาชน และลดผลกระทบเศรษฐกิจของประเทศในภาพรวมได้มากที่สุด\\nนายกรัฐมนตรีเผยช่วงแรกของการระบาดครั้งนี้ หนักหน่วงกว่าที่ผ่านมา เพราะเกิดการระบาดในกลุ่มแรงงานต่างด้าว บ่อนการพนัน ซึ่งระดมสรรพกำลังติดตามสอบสวนโรคทุกราย เพิ่มการตรวจเชิงรุกในพื้นที่โรงงาน ชุมชน โดยใช้มาตรการ Bubble and Seal ไม่ให้มีการระบาดออกนอกพื้นที่ ไม่ต้องปิดโรงงาน และเศรษฐกิจก็ยังสามารถดำเนินต่อไป เมื่อสถานการณ์คลี่คลายลงรัฐบาลจะผ่อนคลายมาตรการควบคุมให้สอดคล้องกับความเป็นจริง พร้อมทั้งกำชับหน่วยงานความมั่นคงให้เฝ้าระวังพื้นที่แนวชายแดน ป้องกันการลักลอบเข้าเมืองอย่างเข้มงวด\\nนายกรัฐมนตรียังกล่าวถึงการทำงานของหน่วยงานต่างๆ เช่น กระทรวงมหาดไทยได้สร้างกลไกเสริมเชื่อมโยงกับ ศบค. ระดับประเทศ ระดับตำบล บูรณาการร่วมกับกับหน่วยงานสาธารณสุขเพื่อสร้างโครงข่ายเฝ้าระวังทั่วประเทศ ขณะที่กระทรวงกลาโหมและตำรวจ จัดชุดตรวจดูแลสถานประกอบการที่มีความเสี่ยงต่อการแพร่ระบาดให้ดำเนินตามมาตรการป้องกันโรคตามที่ ศบค. กำหนด โดยเฉพาะการเร่งติดตามกลุ่มบุคคลมั่วสุมทำผิดกฎหมาย ที่มีความเสี่ยงต่อการแพร่ระบาด พร้อมทั้งดำเนินการตามกฎหมายอย่างเด็ดขาด สำหรับการทำงานในส่วนของ ศบค. คือการตรวจเชิงรุกควบคู่กับการจัดตั้งโรงพยาบาลสนาม ติดตามสอบสวนผู้ที่มีความเสี่ยง\\nนายกรัฐมนตรียังย้ำในช่วงท้ายถึงความสำคัญของโรงพยาบาลสนามว่า เป็นทางออกหนึ่งที่สร้างความเชื่อมั่น ช่วยเพิ่มประสิทธิภาพการทำงานของหมอ พยาบาล ในการดูแลทั้งผู้ป่วยนอก ผู้ป่วยใน ผู้ป่วยโควิด ให้ได้รับการดูแลอย่างเหมาะสม รวมทั้งจัดพื้นเหมาะสมให้กับผู้ติดเชื้อ ป้องกันการแพร่เชื้อไปสู่ชุมชน ซึ่งการจัดตั้งโรงพยาบาลสนามต้องเป็นไปตามมาตรฐานที่กำหนดไว้แล้วเพื่อให้ความสำคัญกับความปลอดภัยเป็นอันดับแรกภายใต้การทำงานร่วมกันของกระทรวงสาธารณสุข\\n………………………………..\\nกลุ่มประชาสัมพันธ์และเผยแพร่ สำนักโฆษก\\nYour browser does not support the video tag.\\n', 'url': 'https://www.thaigov.go.th/news/contents/details/38926'}\n"
     ]
    }
   ],
   "source": [
    "print(read_file(list_all_txt_files[-1]))"
   ]
  },
  {
   "cell_type": "code",
   "execution_count": 6,
   "id": "86c06c28-0b81-46d8-9187-83aa692a0fa8",
   "metadata": {
    "tags": []
   },
   "outputs": [
    {
     "name": "stderr",
     "output_type": "stream",
     "text": [
      "100%|███████████████████████████████████| 30380/30380 [00:05<00:00, 5841.57it/s]\n"
     ]
    }
   ],
   "source": [
    "title=[]\n",
    "context=[]\n",
    "url=[]\n",
    "for i in tqdm(list_all_txt_files):\n",
    "    d=read_file(i)\n",
    "    title.append(d[\"title\"])\n",
    "    context.append(d[\"context\"])\n",
    "    url.append(d[\"url\"])"
   ]
  },
  {
   "cell_type": "code",
   "execution_count": 7,
   "id": "f094b0a7-2ea1-40e8-8d6a-cfde0f933d23",
   "metadata": {
    "tags": []
   },
   "outputs": [],
   "source": [
    "df = pd.DataFrame.from_dict(\n",
    "    {\n",
    "        \"title\": title,\n",
    "        \"context\": context,\n",
    "        \"url\": url,\n",
    "    }\n",
    ")"
   ]
  },
  {
   "cell_type": "code",
   "execution_count": 8,
   "id": "a798a718-ecce-4921-bf4a-0c4b09e7d70d",
   "metadata": {
    "tags": []
   },
   "outputs": [
    {
     "data": {
      "text/html": [
       "<div>\n",
       "<style scoped>\n",
       "    .dataframe tbody tr th:only-of-type {\n",
       "        vertical-align: middle;\n",
       "    }\n",
       "\n",
       "    .dataframe tbody tr th {\n",
       "        vertical-align: top;\n",
       "    }\n",
       "\n",
       "    .dataframe thead th {\n",
       "        text-align: right;\n",
       "    }\n",
       "</style>\n",
       "<table border=\"1\" class=\"dataframe\">\n",
       "  <thead>\n",
       "    <tr style=\"text-align: right;\">\n",
       "      <th></th>\n",
       "      <th>title</th>\n",
       "      <th>context</th>\n",
       "      <th>url</th>\n",
       "    </tr>\n",
       "  </thead>\n",
       "  <tbody>\n",
       "    <tr>\n",
       "      <th>0</th>\n",
       "      <td>รัฐบาลไทย-ข่าวทำเนียบรัฐบาล-โปร 10 เดือน 10 กล...</td>\n",
       "      <td>วันศุกร์ที่ 9 ตุลาคม 2563\\nโปร 10 เดือน 10 กลั...</td>\n",
       "      <td>https://www.thaigov.go.th/news/contents/detail...</td>\n",
       "    </tr>\n",
       "    <tr>\n",
       "      <th>1</th>\n",
       "      <td>รัฐบาลไทย-ข่าวทำเนียบรัฐบาล-“จับกัง 1” ติดตาม ...</td>\n",
       "      <td>วันศุกร์ที่ 9 ตุลาคม 2563\\n“จับกัง 1” ติดตาม “...</td>\n",
       "      <td>https://www.thaigov.go.th/news/contents/detail...</td>\n",
       "    </tr>\n",
       "    <tr>\n",
       "      <th>2</th>\n",
       "      <td>รัฐบาลไทย-ข่าวทำเนียบรัฐบาล- ปลัดฯกอบชัย เปิดง...</td>\n",
       "      <td>วันศุกร์ที่ 9 ตุลาคม 2563\\nปลัดฯกอบชัย เปิดงาน...</td>\n",
       "      <td>https://www.thaigov.go.th/news/contents/detail...</td>\n",
       "    </tr>\n",
       "    <tr>\n",
       "      <th>3</th>\n",
       "      <td>รัฐบาลไทย-ข่าวทำเนียบรัฐบาล-ปัญหาการเข้าถึงข้อ...</td>\n",
       "      <td>วันศุกร์ที่ 9 ตุลาคม 2563\\nปัญหาการเข้าถึงข้อม...</td>\n",
       "      <td>https://www.thaigov.go.th/news/contents/detail...</td>\n",
       "    </tr>\n",
       "    <tr>\n",
       "      <th>4</th>\n",
       "      <td>รัฐบาลไทย-ข่าวทำเนียบรัฐบาล-SME D Bank ผนึกหน่...</td>\n",
       "      <td>วันศุกร์ที่ 9 ตุลาคม 2563\\nSME D Bank ผนึกหน่ว...</td>\n",
       "      <td>https://www.thaigov.go.th/news/contents/detail...</td>\n",
       "    </tr>\n",
       "    <tr>\n",
       "      <th>...</th>\n",
       "      <td>...</td>\n",
       "      <td>...</td>\n",
       "      <td>...</td>\n",
       "    </tr>\n",
       "    <tr>\n",
       "      <th>30375</th>\n",
       "      <td>รัฐบาลไทย-</td>\n",
       "      <td>วันพฤหัสบดีที่ 1 มกราคม 2513\\n</td>\n",
       "      <td>https://www.thaigov.go.th/news/contents/detail...</td>\n",
       "    </tr>\n",
       "    <tr>\n",
       "      <th>30376</th>\n",
       "      <td>รัฐบาลไทย-ข่าวทำเนียบรัฐบาล-นายกฯ เป็นห่วงประช...</td>\n",
       "      <td>วันเสาร์ที่ 6 กุมภาพันธ์ 2564\\nนายกฯ เป็นห่วงป...</td>\n",
       "      <td>https://www.thaigov.go.th/news/contents/detail...</td>\n",
       "    </tr>\n",
       "    <tr>\n",
       "      <th>30377</th>\n",
       "      <td>รัฐบาลไทย-ข่าวทำเนียบรัฐบาล-รมว.ทส. เยี่ยมชมพิ...</td>\n",
       "      <td>วันเสาร์ที่ 6 กุมภาพันธ์ 2564\\nรมว.ทส. เยี่ยมช...</td>\n",
       "      <td>https://www.thaigov.go.th/news/contents/detail...</td>\n",
       "    </tr>\n",
       "    <tr>\n",
       "      <th>30378</th>\n",
       "      <td>รัฐบาลไทย-ข่าวทำเนียบรัฐบาล-โควิดไม่หยุดโคดดิ้...</td>\n",
       "      <td>วันเสาร์ที่ 6 กุมภาพันธ์ 2564\\nโควิดไม่หยุดโคด...</td>\n",
       "      <td>https://www.thaigov.go.th/news/contents/detail...</td>\n",
       "    </tr>\n",
       "    <tr>\n",
       "      <th>30379</th>\n",
       "      <td>รัฐบาลไทย-ข่าวทำเนียบรัฐบาล-นายกรัฐมนตรี ยกสถา...</td>\n",
       "      <td>วันเสาร์ที่ 6 กุมภาพันธ์ 2564\\nนายกรัฐมนตรี ยก...</td>\n",
       "      <td>https://www.thaigov.go.th/news/contents/detail...</td>\n",
       "    </tr>\n",
       "  </tbody>\n",
       "</table>\n",
       "<p>30380 rows × 3 columns</p>\n",
       "</div>"
      ],
      "text/plain": [
       "                                                   title  \\\n",
       "0      รัฐบาลไทย-ข่าวทำเนียบรัฐบาล-โปร 10 เดือน 10 กล...   \n",
       "1      รัฐบาลไทย-ข่าวทำเนียบรัฐบาล-“จับกัง 1” ติดตาม ...   \n",
       "2      รัฐบาลไทย-ข่าวทำเนียบรัฐบาล- ปลัดฯกอบชัย เปิดง...   \n",
       "3      รัฐบาลไทย-ข่าวทำเนียบรัฐบาล-ปัญหาการเข้าถึงข้อ...   \n",
       "4      รัฐบาลไทย-ข่าวทำเนียบรัฐบาล-SME D Bank ผนึกหน่...   \n",
       "...                                                  ...   \n",
       "30375                                         รัฐบาลไทย-   \n",
       "30376  รัฐบาลไทย-ข่าวทำเนียบรัฐบาล-นายกฯ เป็นห่วงประช...   \n",
       "30377  รัฐบาลไทย-ข่าวทำเนียบรัฐบาล-รมว.ทส. เยี่ยมชมพิ...   \n",
       "30378  รัฐบาลไทย-ข่าวทำเนียบรัฐบาล-โควิดไม่หยุดโคดดิ้...   \n",
       "30379  รัฐบาลไทย-ข่าวทำเนียบรัฐบาล-นายกรัฐมนตรี ยกสถา...   \n",
       "\n",
       "                                                 context  \\\n",
       "0      วันศุกร์ที่ 9 ตุลาคม 2563\\nโปร 10 เดือน 10 กลั...   \n",
       "1      วันศุกร์ที่ 9 ตุลาคม 2563\\n“จับกัง 1” ติดตาม “...   \n",
       "2      วันศุกร์ที่ 9 ตุลาคม 2563\\nปลัดฯกอบชัย เปิดงาน...   \n",
       "3      วันศุกร์ที่ 9 ตุลาคม 2563\\nปัญหาการเข้าถึงข้อม...   \n",
       "4      วันศุกร์ที่ 9 ตุลาคม 2563\\nSME D Bank ผนึกหน่ว...   \n",
       "...                                                  ...   \n",
       "30375                     วันพฤหัสบดีที่ 1 มกราคม 2513\\n   \n",
       "30376  วันเสาร์ที่ 6 กุมภาพันธ์ 2564\\nนายกฯ เป็นห่วงป...   \n",
       "30377  วันเสาร์ที่ 6 กุมภาพันธ์ 2564\\nรมว.ทส. เยี่ยมช...   \n",
       "30378  วันเสาร์ที่ 6 กุมภาพันธ์ 2564\\nโควิดไม่หยุดโคด...   \n",
       "30379  วันเสาร์ที่ 6 กุมภาพันธ์ 2564\\nนายกรัฐมนตรี ยก...   \n",
       "\n",
       "                                                     url  \n",
       "0      https://www.thaigov.go.th/news/contents/detail...  \n",
       "1      https://www.thaigov.go.th/news/contents/detail...  \n",
       "2      https://www.thaigov.go.th/news/contents/detail...  \n",
       "3      https://www.thaigov.go.th/news/contents/detail...  \n",
       "4      https://www.thaigov.go.th/news/contents/detail...  \n",
       "...                                                  ...  \n",
       "30375  https://www.thaigov.go.th/news/contents/detail...  \n",
       "30376  https://www.thaigov.go.th/news/contents/detail...  \n",
       "30377  https://www.thaigov.go.th/news/contents/detail...  \n",
       "30378  https://www.thaigov.go.th/news/contents/detail...  \n",
       "30379  https://www.thaigov.go.th/news/contents/detail...  \n",
       "\n",
       "[30380 rows x 3 columns]"
      ]
     },
     "execution_count": 8,
     "metadata": {},
     "output_type": "execute_result"
    }
   ],
   "source": [
    "df"
   ]
  },
  {
   "cell_type": "code",
   "execution_count": 9,
   "id": "0b896ed5-e375-4173-b976-7400df2be0c8",
   "metadata": {
    "tags": []
   },
   "outputs": [],
   "source": [
    "df.to_parquet(\"dataset.parquet\", row_group_size=100, engine=\"pyarrow\")"
   ]
  },
  {
   "cell_type": "code",
   "execution_count": 10,
   "id": "af930fbf-62a7-4687-9bac-a414322ef032",
   "metadata": {
    "tags": []
   },
   "outputs": [
    {
     "name": "stdout",
     "output_type": "stream",
     "text": [
      "Downloading and preparing dataset parquet/default to /home/wannaphong/.cache/huggingface/datasets/parquet/default-48a558d6a5154942/0.0.0/2a3b91fbd88a2c90d1dbbb32b460cf621d31bd5b05b934492fdef7d8d6f236ec...\n"
     ]
    },
    {
     "name": "stderr",
     "output_type": "stream",
     "text": [
      "Downloading data files: 100%|███████████████████| 1/1 [00:00<00:00, 6061.13it/s]\n",
      "Extracting data files: 100%|█████████████████████| 1/1 [00:00<00:00, 751.26it/s]\n",
      "                                                                   "
     ]
    },
    {
     "name": "stdout",
     "output_type": "stream",
     "text": [
      "Dataset parquet downloaded and prepared to /home/wannaphong/.cache/huggingface/datasets/parquet/default-48a558d6a5154942/0.0.0/2a3b91fbd88a2c90d1dbbb32b460cf621d31bd5b05b934492fdef7d8d6f236ec. Subsequent calls will reuse this data.\n"
     ]
    },
    {
     "name": "stderr",
     "output_type": "stream",
     "text": [
      "\r"
     ]
    }
   ],
   "source": [
    "from datasets import Dataset\n",
    "\n",
    "ds = Dataset.from_parquet(\"dataset.parquet\")"
   ]
  },
  {
   "cell_type": "code",
   "execution_count": 11,
   "id": "d7531bfb-bcc7-46a9-bfc9-ee97e3c24511",
   "metadata": {
    "tags": []
   },
   "outputs": [
    {
     "name": "stderr",
     "output_type": "stream",
     "text": [
      "Pushing dataset shards to the dataset hub:   0%|          | 0/1 [00:00<?, ?it/s]\n",
      "Creating parquet from Arrow format:   0%|                | 0/31 [00:00<?, ?ba/s]\u001b[A\n",
      "Creating parquet from Arrow format:  13%|█       | 4/31 [00:00<00:00, 30.67ba/s]\u001b[A\n",
      "Creating parquet from Arrow format:  26%|██      | 8/31 [00:00<00:00, 31.02ba/s]\u001b[A\n",
      "Creating parquet from Arrow format:  39%|██▋    | 12/31 [00:00<00:00, 30.62ba/s]\u001b[A\n",
      "Creating parquet from Arrow format:  52%|███▌   | 16/31 [00:00<00:00, 30.08ba/s]\u001b[A\n",
      "Creating parquet from Arrow format:  65%|████▌  | 20/31 [00:00<00:00, 30.04ba/s]\u001b[A\n",
      "Creating parquet from Arrow format:  77%|█████▍ | 24/31 [00:00<00:00, 29.94ba/s]\u001b[A\n",
      "Creating parquet from Arrow format:  87%|██████ | 27/31 [00:00<00:00, 29.63ba/s]\u001b[A\n",
      "Creating parquet from Arrow format: 100%|███████| 31/31 [00:01<00:00, 30.72ba/s]\u001b[A\n",
      "\n",
      "Upload 1 LFS files:   0%|                                 | 0/1 [00:00<?, ?it/s]\u001b[A\n",
      "Upload 1 LFS files: 100%|████████████████████████| 1/1 [01:41<00:00, 101.74s/it]\u001b[A\n",
      "Pushing dataset shards to the dataset hub: 100%|█| 1/1 [01:47<00:00, 107.37s/it]\n"
     ]
    }
   ],
   "source": [
    "ds.push_to_hub(\"pythainlp/thaigov-v2-corpus-22032023\")"
   ]
  },
  {
   "cell_type": "code",
   "execution_count": null,
   "id": "fc11f7b9-c262-4017-8d24-ae7032e5d7d2",
   "metadata": {},
   "outputs": [],
   "source": []
  }
 ],
 "metadata": {
  "kernelspec": {
   "display_name": "Python 3 (ipykernel)",
   "language": "python",
   "name": "python3"
  },
  "language_info": {
   "codemirror_mode": {
    "name": "ipython",
    "version": 3
   },
   "file_extension": ".py",
   "mimetype": "text/x-python",
   "name": "python",
   "nbconvert_exporter": "python",
   "pygments_lexer": "ipython3",
   "version": "3.10.6"
  }
 },
 "nbformat": 4,
 "nbformat_minor": 5
}
